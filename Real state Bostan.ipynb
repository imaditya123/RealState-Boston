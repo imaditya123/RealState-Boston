{
 "cells": [
  {
   "cell_type": "markdown",
   "id": "e36d8c9b",
   "metadata": {},
   "source": [
    "# Regression"
   ]
  },
  {
   "cell_type": "code",
   "execution_count": 1,
   "id": "a04fea09",
   "metadata": {},
   "outputs": [],
   "source": [
    "from sklearn.datasets import load_boston"
   ]
  },
  {
   "cell_type": "code",
   "execution_count": 2,
   "id": "00cc045c",
   "metadata": {},
   "outputs": [],
   "source": [
    "import numpy as np\n",
    "import pandas as pd\n",
    "import matplotlib.pyplot as plt"
   ]
  },
  {
   "cell_type": "code",
   "execution_count": 3,
   "id": "0880c186",
   "metadata": {},
   "outputs": [],
   "source": [
    "Data_set=load_boston()"
   ]
  },
  {
   "cell_type": "code",
   "execution_count": 4,
   "id": "02607324",
   "metadata": {},
   "outputs": [],
   "source": [
    "x=Data_set.data\n",
    "y=Data_set.target"
   ]
  },
  {
   "cell_type": "code",
   "execution_count": 5,
   "id": "382e7d04",
   "metadata": {},
   "outputs": [],
   "source": [
    "from sklearn.model_selection import train_test_split"
   ]
  },
  {
   "cell_type": "code",
   "execution_count": 6,
   "id": "9b93521e",
   "metadata": {},
   "outputs": [],
   "source": [
    "x_train,x_test,y_train,y_test=train_test_split(x,y,test_size=0.25,train_size=0.75,random_state=88)"
   ]
  },
  {
   "cell_type": "code",
   "execution_count": 7,
   "id": "23a2b75b",
   "metadata": {},
   "outputs": [],
   "source": [
    "from sklearn.preprocessing import MinMaxScaler"
   ]
  },
  {
   "cell_type": "code",
   "execution_count": 8,
   "id": "0c6ae72d",
   "metadata": {},
   "outputs": [],
   "source": [
    "Sc=MinMaxScaler(feature_range=(0,1))"
   ]
  },
  {
   "cell_type": "code",
   "execution_count": 9,
   "id": "f6519f7e",
   "metadata": {},
   "outputs": [],
   "source": [
    "x_train=Sc.fit_transform(x_train)"
   ]
  },
  {
   "cell_type": "code",
   "execution_count": 10,
   "id": "8768cfe8",
   "metadata": {},
   "outputs": [],
   "source": [
    "x_test=Sc.fit_transform(x_test)"
   ]
  },
  {
   "cell_type": "code",
   "execution_count": 11,
   "id": "1342a220",
   "metadata": {},
   "outputs": [],
   "source": [
    "y_train=y_train.reshape(-1,1)"
   ]
  },
  {
   "cell_type": "code",
   "execution_count": 12,
   "id": "5e889e6f",
   "metadata": {},
   "outputs": [],
   "source": [
    "y_train=Sc.fit_transform(y_train)"
   ]
  },
  {
   "cell_type": "markdown",
   "id": "ad07d567",
   "metadata": {},
   "source": [
    "# Model\n"
   ]
  },
  {
   "cell_type": "code",
   "execution_count": 13,
   "id": "91fe9569",
   "metadata": {},
   "outputs": [],
   "source": [
    "from sklearn.linear_model import LinearRegression"
   ]
  },
  {
   "cell_type": "code",
   "execution_count": 14,
   "id": "23981fc4",
   "metadata": {},
   "outputs": [],
   "source": [
    "LR=LinearRegression()"
   ]
  },
  {
   "cell_type": "code",
   "execution_count": 15,
   "id": "53f5bc2d",
   "metadata": {},
   "outputs": [
    {
     "data": {
      "text/plain": [
       "LinearRegression()"
      ]
     },
     "execution_count": 15,
     "metadata": {},
     "output_type": "execute_result"
    }
   ],
   "source": [
    "LR.fit(x_train,y_train)"
   ]
  },
  {
   "cell_type": "code",
   "execution_count": 16,
   "id": "42e77c04",
   "metadata": {},
   "outputs": [],
   "source": [
    "Predict_Values=LR.predict(x_test)"
   ]
  },
  {
   "cell_type": "code",
   "execution_count": 17,
   "id": "13180218",
   "metadata": {},
   "outputs": [],
   "source": [
    "Predict_Values=Sc.inverse_transform(Predict_Values)"
   ]
  },
  {
   "cell_type": "code",
   "execution_count": 22,
   "id": "4e2d6c00",
   "metadata": {},
   "outputs": [],
   "source": [
    "from sklearn.metrics import accuracy_score,mean_squared_error,mean_absolute_error,r2_score"
   ]
  },
  {
   "cell_type": "code",
   "execution_count": 23,
   "id": "6acde7b2",
   "metadata": {},
   "outputs": [],
   "source": [
    "import math\n"
   ]
  },
  {
   "cell_type": "markdown",
   "id": "0bdf5ea4",
   "metadata": {},
   "source": [
    "# Evaluation "
   ]
  },
  {
   "cell_type": "code",
   "execution_count": 32,
   "id": "20507e21",
   "metadata": {},
   "outputs": [],
   "source": [
    "MAE=mean_absolute_error(y_test,Predict_Values)"
   ]
  },
  {
   "cell_type": "code",
   "execution_count": 33,
   "id": "7b3c8a47",
   "metadata": {},
   "outputs": [
    {
     "data": {
      "text/plain": [
       "4.2062167745640515"
      ]
     },
     "execution_count": 33,
     "metadata": {},
     "output_type": "execute_result"
    }
   ],
   "source": [
    "MAE"
   ]
  },
  {
   "cell_type": "code",
   "execution_count": 26,
   "id": "eaeb270c",
   "metadata": {},
   "outputs": [],
   "source": [
    "MSE=mean_squared_error(y_test,Predict_Values)"
   ]
  },
  {
   "cell_type": "code",
   "execution_count": 27,
   "id": "6ae08a9e",
   "metadata": {},
   "outputs": [],
   "source": [
    "RMSE=math.sqrt(MSE)"
   ]
  },
  {
   "cell_type": "code",
   "execution_count": 28,
   "id": "57f09e0d",
   "metadata": {},
   "outputs": [],
   "source": [
    "R2=r2_score(y_test,Predict_Values)"
   ]
  },
  {
   "cell_type": "code",
   "execution_count": 31,
   "id": "eff4be4f",
   "metadata": {},
   "outputs": [],
   "source": [
    "def mean_absolute_percentage(y_true,y_pred):\n",
    "    y_true,y_pred=np.array(y_true),np.array(y_pred)\n",
    "    return np.mean(np.abs(y_true-y_pred)/y_true)* 100\n",
    "    "
   ]
  },
  {
   "cell_type": "code",
   "execution_count": 38,
   "id": "bbbe1271",
   "metadata": {},
   "outputs": [
    {
     "data": {
      "text/plain": [
       "48.154142199151494"
      ]
     },
     "execution_count": 38,
     "metadata": {},
     "output_type": "execute_result"
    }
   ],
   "source": [
    "MAp=mean_absolute_percentage(y_test,Predict_Values)\n",
    "MAp"
   ]
  },
  {
   "cell_type": "markdown",
   "id": "af8f89c7",
   "metadata": {},
   "source": [
    "# Polynomial Linear Regression "
   ]
  },
  {
   "cell_type": "code",
   "execution_count": 57,
   "id": "c45d3e3f",
   "metadata": {},
   "outputs": [],
   "source": [
    "x=Data_set.data[:,5]"
   ]
  },
  {
   "cell_type": "code",
   "execution_count": 58,
   "id": "2b76de3b",
   "metadata": {},
   "outputs": [],
   "source": [
    "y=Data_set.target"
   ]
  },
  {
   "cell_type": "code",
   "execution_count": 59,
   "id": "74d4efa5",
   "metadata": {},
   "outputs": [],
   "source": [
    "x_train,x_test,y_train,y_test=train_test_split(x,y,test_size=0.25,train_size=0.75,random_state=76)"
   ]
  },
  {
   "cell_type": "code",
   "execution_count": 60,
   "id": "8220dc43",
   "metadata": {},
   "outputs": [],
   "source": [
    "from sklearn.preprocessing import PolynomialFeatures\n"
   ]
  },
  {
   "cell_type": "code",
   "execution_count": 61,
   "id": "6b568aba",
   "metadata": {},
   "outputs": [],
   "source": [
    "Poly_p=PolynomialFeatures(degree=2)"
   ]
  },
  {
   "cell_type": "code",
   "execution_count": 62,
   "id": "f6f51624",
   "metadata": {},
   "outputs": [],
   "source": [
    "x_train=x_train.reshape(-1,1)"
   ]
  },
  {
   "cell_type": "code",
   "execution_count": 63,
   "id": "2b7cfc79",
   "metadata": {},
   "outputs": [],
   "source": [
    "Poly_x=Poly_p.fit_transform(x_train)"
   ]
  },
  {
   "cell_type": "code",
   "execution_count": 64,
   "id": "5aae7eb6",
   "metadata": {},
   "outputs": [],
   "source": [
    "Linear_R=LinearRegression()"
   ]
  },
  {
   "cell_type": "code",
   "execution_count": 65,
   "id": "bbba5a25",
   "metadata": {},
   "outputs": [],
   "source": [
    "Poly_L_r=Linear_R.fit(Poly_x,y_train)"
   ]
  },
  {
   "cell_type": "code",
   "execution_count": 66,
   "id": "4c23f377",
   "metadata": {},
   "outputs": [
    {
     "data": {
      "text/plain": [
       "LinearRegression()"
      ]
     },
     "execution_count": 66,
     "metadata": {},
     "output_type": "execute_result"
    }
   ],
   "source": [
    "Poly_L_r"
   ]
  },
  {
   "cell_type": "code",
   "execution_count": 67,
   "id": "a213dee5",
   "metadata": {},
   "outputs": [],
   "source": [
    "x_test=x_test.reshape(-1,1)\n",
    "Poly_xt=Poly_p.fit_transform(x_test)"
   ]
  },
  {
   "cell_type": "code",
   "execution_count": 69,
   "id": "ee777a38",
   "metadata": {},
   "outputs": [],
   "source": [
    "Predicted_Values=Poly_L_r.predict(Poly_xt)"
   ]
  },
  {
   "cell_type": "code",
   "execution_count": 71,
   "id": "081b9966",
   "metadata": {},
   "outputs": [
    {
     "data": {
      "text/plain": [
       "0.6448365947580209"
      ]
     },
     "execution_count": 71,
     "metadata": {},
     "output_type": "execute_result"
    }
   ],
   "source": [
    "R2=r2_score(y_test,Predicted_Values)\n",
    "R2"
   ]
  },
  {
   "cell_type": "code",
   "execution_count": null,
   "id": "6116e3a5",
   "metadata": {},
   "outputs": [],
   "source": []
  }
 ],
 "metadata": {
  "kernelspec": {
   "display_name": "Python 3",
   "language": "python",
   "name": "python3"
  },
  "language_info": {
   "codemirror_mode": {
    "name": "ipython",
    "version": 3
   },
   "file_extension": ".py",
   "mimetype": "text/x-python",
   "name": "python",
   "nbconvert_exporter": "python",
   "pygments_lexer": "ipython3",
   "version": "3.8.8"
  }
 },
 "nbformat": 4,
 "nbformat_minor": 5
}
